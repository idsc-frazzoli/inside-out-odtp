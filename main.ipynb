{
 "cells": [
  {
   "cell_type": "markdown",
   "metadata": {},
   "source": [
    "Input/Output File Spec"
   ]
  },
  {
   "cell_type": "code",
   "execution_count": 1,
   "metadata": {},
   "outputs": [],
   "source": [
    "network_file_in = \"/Users/milos/Downloads/aarau_bl/network_aarau_bl.xml\"\n",
    "network_file_out = \"/Users/milos/Downloads/aarau_bl/network_aarau_bl_intervention.xml\""
   ]
  },
  {
   "cell_type": "code",
   "execution_count": 2,
   "metadata": {},
   "outputs": [
    {
     "ename": "NameError",
     "evalue": "name 'XmlWriter' is not defined",
     "output_type": "error",
     "traceback": [
      "\u001b[0;31m---------------------------------------------------------------------------\u001b[0m",
      "\u001b[0;31mNameError\u001b[0m                                 Traceback (most recent call last)",
      "Cell \u001b[0;32mIn[2], line 4\u001b[0m\n\u001b[1;32m      2\u001b[0m \u001b[38;5;28;01mimport\u001b[39;00m \u001b[38;5;21;01mmatsim\u001b[39;00m\n\u001b[1;32m      3\u001b[0m \u001b[38;5;28;01mfrom\u001b[39;00m \u001b[38;5;21;01minterventions\u001b[39;00m \u001b[38;5;28;01mimport\u001b[39;00m speed_limit_intervention\n\u001b[0;32m----> 4\u001b[0m \u001b[38;5;28;01mimport\u001b[39;00m \u001b[38;5;21;01mMatsimNetworkWriter\u001b[39;00m \u001b[38;5;28;01mas\u001b[39;00m \u001b[38;5;21;01mmnw\u001b[39;00m\n",
      "File \u001b[0;32m~/Documents/GitHub/inside-out-odtp/MatsimNetworkWriter.py:7\u001b[0m\n\u001b[1;32m      3\u001b[0m \u001b[38;5;28;01mfrom\u001b[39;00m \u001b[38;5;21;01mtyping\u001b[39;00m \u001b[38;5;28;01mimport\u001b[39;00m Dict, Union, Collection, TypeVar\n\u001b[1;32m      5\u001b[0m Id \u001b[38;5;241m=\u001b[39m TypeVar(\u001b[38;5;124m'\u001b[39m\u001b[38;5;124mId\u001b[39m\u001b[38;5;124m'\u001b[39m, \u001b[38;5;28mstr\u001b[39m, \u001b[38;5;28mint\u001b[39m)\n\u001b[0;32m----> 7\u001b[0m \u001b[38;5;28;01mclass\u001b[39;00m \u001b[38;5;21;01mNetworkWriter\u001b[39;00m(\u001b[43mXmlWriter\u001b[49m):\n\u001b[1;32m      8\u001b[0m     NETWORK_SCOPE \u001b[38;5;241m=\u001b[39m \u001b[38;5;241m0\u001b[39m\n\u001b[1;32m      9\u001b[0m     FINISHED_SCOPE \u001b[38;5;241m=\u001b[39m \u001b[38;5;241m1\u001b[39m\n",
      "\u001b[0;31mNameError\u001b[0m: name 'XmlWriter' is not defined"
     ]
    }
   ],
   "source": [
    "import pandas as pd\n",
    "import matsim\n",
    "from interventions import speed_limit_intervention\n",
    "import MatsimNetworkWriter as mnw"
   ]
  },
  {
   "cell_type": "markdown",
   "metadata": {},
   "source": [
    "Create New Network Based on Speed Intervention"
   ]
  },
  {
   "cell_type": "code",
   "execution_count": 3,
   "metadata": {},
   "outputs": [
    {
     "ename": "NameError",
     "evalue": "name 'XmlWriter' is not defined",
     "output_type": "error",
     "traceback": [
      "\u001b[0;31m---------------------------------------------------------------------------\u001b[0m",
      "\u001b[0;31mNameError\u001b[0m                                 Traceback (most recent call last)",
      "Cell \u001b[0;32mIn[3], line 12\u001b[0m\n\u001b[1;32m      8\u001b[0m \u001b[38;5;66;03m# save network\u001b[39;00m\n\u001b[1;32m     10\u001b[0m \u001b[38;5;28;01mwith\u001b[39;00m \u001b[38;5;28mopen\u001b[39m(network_file_out, \u001b[38;5;124m'\u001b[39m\u001b[38;5;124mwb+\u001b[39m\u001b[38;5;124m'\u001b[39m) \u001b[38;5;28;01mas\u001b[39;00m f_write:\n\u001b[0;32m---> 12\u001b[0m     writer \u001b[38;5;241m=\u001b[39m \u001b[43mmnw\u001b[49m\u001b[38;5;241;43m.\u001b[39;49m\u001b[43mNetworkWriter\u001b[49m\u001b[43m(\u001b[49m\u001b[43mf_write\u001b[49m\u001b[43m)\u001b[49m\n\u001b[1;32m     13\u001b[0m     writer\u001b[38;5;241m.\u001b[39mstart_network()\n\u001b[1;32m     15\u001b[0m     \u001b[38;5;66;03m# write the nodes of the new network\u001b[39;00m\n",
      "File \u001b[0;32m~/Documents/GitHub/inside-out-odtp/MatsimNetworkWriter.py:14\u001b[0m, in \u001b[0;36mNetworkWriter.__init__\u001b[0;34m(self, writer)\u001b[0m\n\u001b[1;32m     13\u001b[0m \u001b[38;5;28;01mdef\u001b[39;00m \u001b[38;5;21m__init__\u001b[39m(\u001b[38;5;28mself\u001b[39m, writer):\n\u001b[0;32m---> 14\u001b[0m     \u001b[43mXmlWriter\u001b[49m\u001b[38;5;241m.\u001b[39m\u001b[38;5;21m__init__\u001b[39m(\u001b[38;5;28mself\u001b[39m, writer)\n",
      "\u001b[0;31mNameError\u001b[0m: name 'XmlWriter' is not defined"
     ]
    }
   ],
   "source": [
    "# read network\n",
    "net = matsim.read_network(network_file_in)\n",
    "\n",
    "# set intervention (add \"av\" mode)\n",
    "av_speed_threshold_mps = 60/3.6 # 60 kph in mps\n",
    "net_intervention = speed_limit_intervention(net, av_speed_threshold_mps)\n",
    "\n",
    "# save network\n",
    "\n",
    "with open(network_file_out, 'wb+') as f_write:\n",
    "    \n",
    "    writer = mnw.NetworkWriter(f_write)\n",
    "    writer.start_network()\n",
    "\n",
    "    # write the nodes of the new network\n",
    "    writer.start_nodes()\n",
    "    nodes = net.nodes\n",
    "    for i, j in nodes.iterrows():\n",
    "        x = nodes.iloc[i].to_numpy()\n",
    "        \n",
    "        # so far we are lazily assuming the order of the columns\n",
    "        # one might want to pass a dictionary instead and make this nicer\n",
    "        writer.add_node(x[2], x[0], x[1])\n",
    "\n",
    "    writer.end_nodes()\n",
    "    \n",
    "    # write the links of the new network\n",
    "    writer.start_links()\n",
    "    links = net.links\n",
    "    for i, j in links.iterrows():\n",
    "        x = links.iloc[i].to_numpy()\n",
    "        # so far we are lazily assuming the order of the columns\n",
    "        # one might want to pass a dictionary instead and make this nicer\n",
    "        writer.add_link(x[6], x[7], x[8], x[0], x[1], x[2], x[3], x[4], x[5])\n",
    "        # currently we do not pass any link attributes, these are a copy-paste from OSM anyway\n",
    "        # and are not used in the simulation\n",
    "\n",
    "    \n",
    "\n",
    "    writer.end_links()\n",
    "    writer.end_network()\n",
    "\n"
   ]
  },
  {
   "cell_type": "code",
   "execution_count": null,
   "metadata": {},
   "outputs": [],
   "source": []
  }
 ],
 "metadata": {
  "kernelspec": {
   "display_name": "inside-out-odtp",
   "language": "python",
   "name": "inside-out-odtp"
  },
  "language_info": {
   "codemirror_mode": {
    "name": "ipython",
    "version": 3
   },
   "file_extension": ".py",
   "mimetype": "text/x-python",
   "name": "python",
   "nbconvert_exporter": "python",
   "pygments_lexer": "ipython3",
   "version": "3.10.7"
  }
 },
 "nbformat": 4,
 "nbformat_minor": 4
}

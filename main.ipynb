{
 "cells": [
  {
   "cell_type": "markdown",
   "metadata": {},
   "source": [
    "Input/Output File Spec"
   ]
  },
  {
   "cell_type": "code",
   "execution_count": null,
   "metadata": {},
   "outputs": [],
   "source": [
    "network_file_in = \"./data/zurich/switzerland_network_new.xml.gz\"\n",
    "network_file_out = \"./data/zurich/switzerland_network_interventions.xml.gz\""
   ]
  },
  {
   "cell_type": "markdown",
   "metadata": {},
   "source": [
    "Create New Network Based on Speed Intervention"
   ]
  },
  {
   "cell_type": "code",
   "execution_count": null,
   "metadata": {},
   "outputs": [],
   "source": [
    "\n",
    "import matsim\n",
    "from interventions import speed_limit_intervention\n",
    "\n",
    "# read network\n",
    "net = matsim.read_network(network_file_in)\n",
    "\n",
    "# set intervention (add \"av\" mode)\n",
    "av_speed_threshold_mps = 60/3.6 # 60 kph in mps\n",
    "net_intervention = speed_limit_intervention(net, av_speed_threshold_mps)\n",
    "\n",
    "# save network\n",
    "# TODO\n",
    "\n",
    "\n"
   ]
  }
 ],
 "metadata": {
  "kernelspec": {
   "display_name": ".venv",
   "language": "python",
   "name": "python3"
  },
  "language_info": {
   "codemirror_mode": {
    "name": "ipython",
    "version": 3
   },
   "file_extension": ".py",
   "mimetype": "text/x-python",
   "name": "python",
   "nbconvert_exporter": "python",
   "pygments_lexer": "ipython3",
   "version": "3.10.7"
  }
 },
 "nbformat": 4,
 "nbformat_minor": 2
}
